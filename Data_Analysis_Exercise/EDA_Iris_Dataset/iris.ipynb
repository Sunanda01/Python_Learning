{
 "cells": [
  {
   "cell_type": "markdown",
   "id": "5fa8d764",
   "metadata": {},
   "source": [
    "# EDA + Feature Engineering on Iris Dataset (Pandas + Matplotlib)\n",
    "## Part A – Data Exploration\n",
    "- Load the Dataset\n",
    "    - Load iris.csv into a Pandas DataFrame.\n",
    "    - Show shape, columns, dtypes, and first 5 rows.\n",
    "\n",
    "- Summary Statistics\n",
    "    - Use .describe() for numeric columns.\n",
    "    - Find which species has the highest mean petal length.\n",
    "\n",
    "- Data Quality\n",
    "    - Check for missing values (.isna().sum()).\n",
    "    - Check for duplicates and remove them if any.\n",
    "\n",
    "- Univariate Analysis\n",
    "    - Plot histograms of each feature (SepalLength, SepalWidth, PetalLength, PetalWidth).\n",
    "    - Plot boxplots (Matplotlib’s plt.boxplot) for each feature grouped by species.\n",
    "    - Identify which feature has the largest spread (variance).\n",
    "\n",
    "- Bivariate Analysis\n",
    "    - Create scatter plots:\n",
    "        - SepalLength vs PetalLength (color by species).\n",
    "        - SepalWidth vs PetalWidth.\n",
    "    - Use different markers (o, s, ^) for species.\n",
    "    - Which two features best separate the species visually?\n",
    "\n",
    "- Correlation Analysis\n",
    "    - Compute correlation matrix using .corr().\n",
    "    - Plot as a heatmap-style table using Matplotlib (imshow + colorbar).\n",
    "    - Which two features are most strongly correlated?\n",
    "\n",
    "## Part B – Feature Engineering (Knowledge Engineering)\n",
    "- Feature Transformation\n",
    "    - Normalize features using (x - min) / (max - min).\n",
    "    - Standardize features using (x - mean) / std.\n",
    "    - Compare histograms of raw vs scaled values.\n",
    "\n",
    "- New Features\n",
    "    - Create:\n",
    "        - SepalArea = SepalLength * SepalWidth\n",
    "        - PetalArea = PetalLength * PetalWidth\n",
    "    - Compare average values of new features across species with bar plots.\n",
    "\n",
    "- Feature Binning\n",
    "    - Bin Sepal Length into 3 categories: Short, Medium, Long.\n",
    "    - Show species count within each bin using a bar chart.\n",
    "\n",
    "- Encoding\n",
    "    - Encode Species into numbers (0,1,2) using Pandas .factorize() or .astype('category').cat.codes.\n",
    "    - Print mapping.\n",
    "\n",
    "## Part C – Mini Assignment Questions\n",
    "- Which feature shows the highest variance across the dataset?\n",
    "- Which feature is the best predictor of species separation?\n",
    "- Between SepalArea and PetalArea, which one separates species better?\n",
    "- In your scatter plots, which species tends to overlap the most with others?\n",
    "- Suggest two more new features you could engineer from existing columns."
   ]
  },
  {
   "cell_type": "code",
   "execution_count": null,
   "id": "425a8da5",
   "metadata": {},
   "outputs": [],
   "source": [
    "import seaborn as sns\n",
    "import matplotlib.pyplot as plt\n",
    "import pandas as pd"
   ]
  },
  {
   "cell_type": "markdown",
   "id": "ce913c4a",
   "metadata": {},
   "source": [
    "## Part A - Data Exploration"
   ]
  },
  {
   "cell_type": "markdown",
   "id": "9296ff8e",
   "metadata": {},
   "source": [
    "### 1. Load the dataset"
   ]
  },
  {
   "cell_type": "code",
   "execution_count": null,
   "id": "7b46ef22",
   "metadata": {},
   "outputs": [],
   "source": [
    "iris_df=sns.load_dataset('iris')"
   ]
  },
  {
   "cell_type": "code",
   "execution_count": null,
   "id": "570d7cd5",
   "metadata": {},
   "outputs": [],
   "source": [
    "# First five head\n",
    "iris_df.head()"
   ]
  },
  {
   "cell_type": "code",
   "execution_count": null,
   "id": "6ec5dc3a",
   "metadata": {},
   "outputs": [],
   "source": [
    "#Shape\n",
    "print(f\"Shape of dataframe is {iris_df.shape}\")"
   ]
  },
  {
   "cell_type": "code",
   "execution_count": null,
   "id": "046987aa",
   "metadata": {},
   "outputs": [],
   "source": [
    "#Columns\n",
    "print(\"Columns of Iris dataset are \\n\", iris_df.columns)    \n"
   ]
  },
  {
   "cell_type": "code",
   "execution_count": null,
   "id": "d26baf5b",
   "metadata": {},
   "outputs": [],
   "source": [
    "#dtype\n",
    "print(\"Data of dataframe is \\n\")\n",
    "iris_df.info()"
   ]
  },
  {
   "cell_type": "markdown",
   "id": "88cb6ce6",
   "metadata": {},
   "source": [
    "### 2. Summary Statistics"
   ]
  },
  {
   "cell_type": "code",
   "execution_count": null,
   "id": "595428f4",
   "metadata": {},
   "outputs": [],
   "source": [
    "print(\"describe numerical columns\")\n",
    "iris_df.describe()"
   ]
  },
  {
   "cell_type": "code",
   "execution_count": null,
   "id": "08ff9ab7",
   "metadata": {},
   "outputs": [],
   "source": [
    "print(\"species with highest mean petal length\")\n",
    "iris_df.groupby('species')['petal_length'].mean().sort_values(ascending=False).head(1)"
   ]
  },
  {
   "cell_type": "markdown",
   "id": "de2999a0",
   "metadata": {},
   "source": [
    "### 3. Data Quality"
   ]
  },
  {
   "cell_type": "code",
   "execution_count": null,
   "id": "67f23c38",
   "metadata": {},
   "outputs": [],
   "source": [
    "# Check for missing values (.isna().sum())\n",
    "print(\"Check for missing values\")\n",
    "iris_df.isna().sum()"
   ]
  },
  {
   "cell_type": "code",
   "execution_count": null,
   "id": "fd742da7",
   "metadata": {},
   "outputs": [],
   "source": [
    "# Check for duplicates and remove them if any\n",
    "print(\"check for duplicates\")\n",
    "iris_df.drop_duplicates(inplace=True)\n",
    "iris_df"
   ]
  },
  {
   "cell_type": "markdown",
   "id": "2bb30635",
   "metadata": {},
   "source": [
    "### 4. Univariate Analysis"
   ]
  },
  {
   "cell_type": "code",
   "execution_count": null,
   "id": "740e6b50",
   "metadata": {},
   "outputs": [],
   "source": [
    "# Plot histograms of each feature (SepalLength, SepalWidth, PetalLength, PetalWidth).\n",
    "iris_df['sepal_length'].plot(kind='hist',bins=10,edgecolor='black',label='Sepal Length',color='pink')\n",
    "plt.legend()\n",
    "plt.title('Sepal Length Distribution')\n",
    "plt.xlabel('Sepal length (cm)')\n",
    "plt.ylabel('Frequency')\n",
    "plt.show()"
   ]
  },
  {
   "cell_type": "code",
   "execution_count": null,
   "id": "ccd9a0f6",
   "metadata": {},
   "outputs": [],
   "source": [
    "iris_df['sepal_width'].plot(kind='hist',bins=10,edgecolor='black',label='Sepal Width',color='yellow')\n",
    "plt.legend()\n",
    "plt.title('Sepal Width Distribution')\n",
    "plt.xlabel('Sepal width (cm)')\n",
    "plt.ylabel('Frequency')\n",
    "plt.show()"
   ]
  },
  {
   "cell_type": "code",
   "execution_count": null,
   "id": "0a45ea9e",
   "metadata": {},
   "outputs": [],
   "source": [
    "iris_df['petal_length'].plot(kind='hist',bins=20,edgecolor='black',label='Petal Length',color='pink')\n",
    "plt.legend()\n",
    "plt.title('Petal Length Distribution')\n",
    "plt.xlabel('Petal Length (cm)')\n",
    "plt.ylabel('Frequency')\n",
    "plt.show()"
   ]
  },
  {
   "cell_type": "code",
   "execution_count": null,
   "id": "7270a97f",
   "metadata": {},
   "outputs": [],
   "source": [
    "iris_df['petal_width'].plot(kind='hist',bins=20,edgecolor='black',label='Petal Width',color='yellow')\n",
    "plt.legend()\n",
    "plt.title('Petal Width Distribution')\n",
    "plt.xlabel('Petal Width (cm)')\n",
    "plt.ylabel('Frequency')\n",
    "plt.show()"
   ]
  },
  {
   "cell_type": "code",
   "execution_count": null,
   "id": "3fc87dd2",
   "metadata": {},
   "outputs": [],
   "source": [
    "plt.boxplot(\n",
    "    [iris_df['sepal_length'],iris_df['sepal_width'],iris_df['petal_length'],iris_df['petal_width']],\n",
    "    tick_labels=['sepal len','sepal wid','petal len','petal wid'],patch_artist=True,vert=True)\n",
    "plt.title('Iris dataset - Boxplots')\n",
    "plt.ylabel('cm')"
   ]
  },
  {
   "cell_type": "code",
   "execution_count": null,
   "id": "7020eeb6",
   "metadata": {},
   "outputs": [],
   "source": [
    "varience=[iris_df['sepal_width'].var(),iris_df['sepal_length'].var(),iris_df['petal_width'].var(),iris_df['petal_length'].var()]\n",
    "print(varience)"
   ]
  },
  {
   "cell_type": "markdown",
   "id": "9a01e58c",
   "metadata": {},
   "source": [
    "### Petal_Length has the largest spread (variance)."
   ]
  },
  {
   "cell_type": "markdown",
   "id": "ee1f8bdb",
   "metadata": {},
   "source": [
    "### 5. Bivariate Analysis"
   ]
  },
  {
   "cell_type": "code",
   "execution_count": null,
   "id": "d76e1bf1",
   "metadata": {},
   "outputs": [],
   "source": [
    "# SepalLength vs PetalLength (color by species).\n",
    "colors={'setosa':'red','virginica':'blue','versicolor':'green'}\n",
    "markers={'setosa':'o','virginica':'s','versicolor':'^'}\n",
    "species=iris_df['species'].unique()\n",
    "for s in species:\n",
    "    subset=iris_df[iris_df['species']==s]\n",
    "    plt.scatter(subset['sepal_width'],subset['petal_width'],c=colors[s],label=s,marker=markers[s],alpha=0.7)\n",
    "plt.grid(color='gray',linestyle=\"--\")\n",
    "plt.title(\"SepalWidth vs PetalWidth\")\n",
    "plt.xlabel(\"Sepal Width\")\n",
    "plt.ylabel(\" Petal Width\")\n",
    "plt.legend()\n",
    "plt.show()"
   ]
  },
  {
   "cell_type": "code",
   "execution_count": null,
   "id": "6eaba8d8",
   "metadata": {},
   "outputs": [],
   "source": [
    "# SepalWidth vs PetalWidth\n",
    "colors={'setosa':'red','virginica':'blue','versicolor':'green'}\n",
    "markers={'setosa':'o','virginica':'s','versicolor':'^'}\n",
    "species=iris_df['species'].unique()\n",
    "for s in species:\n",
    "    subset=iris_df[iris_df['species']==s]\n",
    "    plt.scatter(subset['sepal_length'],subset['petal_length'],c=colors[s],label=s,marker=markers[s],alpha=0.7)\n",
    "plt.grid(color='gray',linestyle=\"--\")\n",
    "plt.title(\"SepalWidth vs PetalWidth\")\n",
    "plt.xlabel(\"Sepal Width\")\n",
    "plt.ylabel(\" Petal Width\")\n",
    "plt.legend()\n",
    "plt.show()"
   ]
  },
  {
   "cell_type": "markdown",
   "id": "cd38d730",
   "metadata": {},
   "source": [
    "### The Petal dimensions (Petal Length & Petal Width) provide the best visual separation of the three species"
   ]
  },
  {
   "cell_type": "markdown",
   "id": "7094e3cb",
   "metadata": {},
   "source": [
    "### 6. Correlation Matrix"
   ]
  },
  {
   "cell_type": "code",
   "execution_count": null,
   "id": "1fc8464a",
   "metadata": {},
   "outputs": [],
   "source": [
    "corr_matrix=iris_df.corr(numeric_only=True)*100\n",
    "print(corr_matrix)"
   ]
  },
  {
   "cell_type": "markdown",
   "id": "bbb85b02",
   "metadata": {},
   "source": [
    "### Petal Length and Petal Width are most strongly correlated = 96.277229"
   ]
  },
  {
   "cell_type": "markdown",
   "id": "2211777b",
   "metadata": {},
   "source": [
    "## Part B - Feature Engineering (Knowledge Engineering)"
   ]
  },
  {
   "cell_type": "markdown",
   "id": "18e58359",
   "metadata": {},
   "source": [
    "### 1. Feature Transformation"
   ]
  },
  {
   "cell_type": "code",
   "execution_count": null,
   "id": "b39e9ff5",
   "metadata": {},
   "outputs": [],
   "source": [
    "print(\"Normalization on Sepal Length = ( x - min ) / ( max - min )\")\n",
    "normalized=(iris_df['sepal_length']-iris_df['sepal_length'].min())/(iris_df['sepal_length'].max()-iris_df['petal_length'].min())\n",
    "print(round(normalized.sample(10),2))"
   ]
  },
  {
   "cell_type": "code",
   "execution_count": null,
   "id": "e4e8fc62",
   "metadata": {},
   "outputs": [],
   "source": [
    "print(\"Standardize features using (x - mean) / std\")\n",
    "std=iris_df['sepal_length'].std()\n",
    "mean=iris_df['sepal_length'].mean()\n",
    "print(f\"Std = {std} Mean = {mean}\")\n",
    "standard_val=round((iris_df['sepal_length']-mean)/std,2)\n",
    "print(standard_val.sample(10))"
   ]
  },
  {
   "cell_type": "code",
   "execution_count": null,
   "id": "8d9851e0",
   "metadata": {},
   "outputs": [],
   "source": [
    "fig,ax=plt.subplots(1,3,figsize=(12,5))\n",
    "fig.supxlabel(\"Range\")\n",
    "fig.supylabel(\"Petal Length (cm)\")\n",
    "\n",
    "ax[0].hist(iris_df['sepal_length'],bins=8,edgecolor=\"black\",color='purple')\n",
    "ax[0].set_title('Sepal Length Raw data')\n",
    "\n",
    "ax[1].hist(normalized,bins=8,edgecolor=\"black\",color='red')\n",
    "ax[1].set_title('Sepal Length Normalized data')\n",
    "\n",
    "\n",
    "ax[2].hist(standard_val,bins=8,edgecolor=\"black\",color='orange')\n",
    "ax[2].set_title('Sepal Length Standard data')\n",
    "\n",
    "plt.suptitle(\"histograms of raw vs scaled values\")\n",
    "plt.tight_layout()\n",
    "plt.show()"
   ]
  },
  {
   "cell_type": "markdown",
   "id": "d7e7eb32",
   "metadata": {},
   "source": [
    "### 2. New feature"
   ]
  },
  {
   "cell_type": "code",
   "execution_count": null,
   "id": "46711d4d",
   "metadata": {},
   "outputs": [],
   "source": [
    "# SepalArea = SepalLength * SepalWidth\n",
    "iris_df['sepalArea']=iris_df['sepal_length']*iris_df['sepal_width']\n",
    "iris_df.head()"
   ]
  },
  {
   "cell_type": "code",
   "execution_count": null,
   "id": "a85c83fc",
   "metadata": {},
   "outputs": [],
   "source": [
    "# PetalArea = PetalLength * PetalWidth\n",
    "iris_df['petalArea']=iris_df['petal_length']*iris_df['petal_width']\n",
    "iris_df.head()"
   ]
  },
  {
   "cell_type": "code",
   "execution_count": null,
   "id": "dd6406dd",
   "metadata": {},
   "outputs": [],
   "source": [
    "fig,ax=plt.subplots(1,2,figsize=(10,5))\n",
    "fig.supxlabel(\"species\")\n",
    "fig.suptitle(\"Average values of new features across species\")\n",
    "colors={'setosa':'#cc4bf2','versicolor':'#8e1cb0','virginica':\"#5E0776\"}\n",
    "species=iris_df['species'].unique()\n",
    "for s in species:\n",
    "    subset=iris_df[iris_df['species']==s]\n",
    "    ax[0].bar(s,subset['sepalArea'].mean(),color=colors[s])\n",
    "    ax[0].set_ylabel(\"Average SepalArea (cm^2)\")\n",
    "\n",
    "    ax[1].bar(s,subset['petalArea'].mean(),color=colors[s])\n",
    "    ax[1].set_ylabel(\"Average petalArea (cm^2)\")\n",
    "plt.tight_layout()"
   ]
  },
  {
   "cell_type": "markdown",
   "id": "93d3eb18",
   "metadata": {},
   "source": [
    "### 3. Feature Binning"
   ]
  },
  {
   "cell_type": "code",
   "execution_count": null,
   "id": "1dc0ac72",
   "metadata": {},
   "outputs": [],
   "source": [
    "# Bin Sepal Length into 3 categories: Short, Medium, Long.\n",
    "iris_df['sepal_length_bin']=pd.cut(iris_df['sepal_length'],bins=3,labels=['short','medium','large'])\n",
    "iris_df.sample(10)"
   ]
  },
  {
   "cell_type": "code",
   "execution_count": null,
   "id": "2b1a7ed9",
   "metadata": {},
   "outputs": [],
   "source": [
    "print(\"Count species in each bin\")\n",
    "bin_counts=iris_df.groupby(['species','sepal_length_bin'],observed=True).size().unstack(fill_value=0)\n",
    "print(bin_counts)"
   ]
  },
  {
   "cell_type": "code",
   "execution_count": null,
   "id": "cfb3d599",
   "metadata": {},
   "outputs": [],
   "source": [
    "bin_counts.plot(kind=\"bar\",figsize=(8,5),edgecolor='black')\n",
    "plt.title(\"Species Count by Sepal Length Bin\")\n",
    "plt.xlabel(\"Sepal Length Category\")\n",
    "plt.ylabel(\"Count\")\n",
    "plt.legend(title=\"Species\")\n",
    "plt.tight_layout()"
   ]
  },
  {
   "cell_type": "markdown",
   "id": "d6e653db",
   "metadata": {},
   "source": [
    "### 4. Encoding"
   ]
  },
  {
   "cell_type": "code",
   "execution_count": null,
   "id": "8031b272",
   "metadata": {},
   "outputs": [],
   "source": [
    "print(\"Adding species Code\")\n",
    "iris_df['species_code'],uniques=pd.factorize(iris_df['species'])\n",
    "iris_df.sample(10)\n",
    "for code,label in enumerate(uniques):\n",
    "    print(code, \"->\", label)"
   ]
  },
  {
   "cell_type": "markdown",
   "id": "cbfc8cdc",
   "metadata": {},
   "source": [
    "### Part 3: Mini Assignment answers\n",
    "Ans1 = Petal Length\n",
    "\n",
    "Ans2 = Petal Length / Petal Width combo\n",
    "\n",
    "Ans3 = Petal Area\n",
    "\n",
    "Ans4 = Versicolor and Virginica\n"
   ]
  },
  {
   "cell_type": "code",
   "execution_count": null,
   "id": "1548745f",
   "metadata": {},
   "outputs": [],
   "source": [
    "# Solution 1\n",
    "round(iris_df.var(numeric_only=True),2)"
   ]
  },
  {
   "cell_type": "code",
   "execution_count": null,
   "id": "aaab88d3",
   "metadata": {},
   "outputs": [],
   "source": [
    "# Solution 2\n",
    "iris_df.corr(numeric_only=True)['species_code']"
   ]
  },
  {
   "cell_type": "code",
   "execution_count": null,
   "id": "eb265e6a",
   "metadata": {},
   "outputs": [],
   "source": [
    "# Solution 3\n",
    "plt.scatter(iris_df['sepalArea'], iris_df['petalArea'], c=iris_df['species_code'])\n",
    "plt.title(\"Sepal Area vs Petal Area\")\n",
    "plt.xlabel(\"Sepal Area\")\n",
    "plt.ylabel(\"Petal Area\")"
   ]
  },
  {
   "cell_type": "code",
   "execution_count": null,
   "id": "cebc569e",
   "metadata": {},
   "outputs": [],
   "source": [
    "# Save updated data\n",
    "# iris_df.to_excel(\"Iris.xlsx\")"
   ]
  },
  {
   "cell_type": "markdown",
   "id": "b3e791e8",
   "metadata": {},
   "source": [
    "### Completed basic EDA on the Iris dataset, covering distributions, correlations, feature transformations, and species separability "
   ]
  }
 ],
 "metadata": {
  "kernelspec": {
   "display_name": ".venv (3.13.5)",
   "language": "python",
   "name": "python3"
  },
  "language_info": {
   "codemirror_mode": {
    "name": "ipython",
    "version": 3
   },
   "file_extension": ".py",
   "mimetype": "text/x-python",
   "name": "python",
   "nbconvert_exporter": "python",
   "pygments_lexer": "ipython3",
   "version": "3.13.5"
  }
 },
 "nbformat": 4,
 "nbformat_minor": 5
}
