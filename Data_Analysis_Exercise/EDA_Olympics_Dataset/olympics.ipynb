{
 "cells": [
  {
   "cell_type": "markdown",
   "id": "f2de4bd5",
   "metadata": {},
   "source": [
    "# EDA + Knowledge Engineering Practice – Olympics Dataset\n",
    "## Part A – Basic EDA\n",
    "- How many unique sports are there in the Olympics dataset?\n",
    "- Which year had the maximum number of participating athletes?\n",
    "- Which country has won the highest total number of medals?\n",
    "- Who is the most decorated Olympic athlete (by total medals)?\n",
    "- Find the trend of female athlete participation across the years.\n",
    "\n",
    "## Part B – Intermediate EDA\n",
    "- Compare Summer vs Winter Olympics in terms of total medals awarded.\n",
    "- Which age group (e.g., <20, 20–30, 30–40, >40) has the highest chance of winning medals?\n",
    "- What is the distribution of medals by gender?\n",
    "- Which countries have dominated in Swimming and Athletics over the years?\n",
    "- Find the top 10 athletes with the longest Olympic careers (span between first and last participation).\n",
    "\n",
    "## Part C – Tricky / Knowledge Engineering Style\n",
    "These require connecting multiple columns or reasoning indirectly:\n",
    "- Is there a correlation between Height/Weight and medal-winning in certain sports (e.g., Basketball, Gymnastics)?\n",
    "- Which countries have the highest medal-to-participation ratio (efficient performers)?\n",
    "- Identify athletes who have won medals in multiple sports.\n",
    "- For each host country, did their medal count improve when they hosted compared to the Olympics before/after?\n",
    "- Which sports are most gender-balanced vs most gender-skewed in participation?\n",
    "\n",
    "## Part D – Advanced Knowledge Engineering\n",
    "- Using NOC mapping, group medals by continent – which continent dominates overall?\n",
    "- Are team sports (e.g., Football, Hockey) more dominated by certain regions compared to individual sports?\n",
    "- Which athletes participated in the most Olympics without ever winning a medal?\n",
    "- Has the average age of medal winners increased or decreased over time?"
   ]
  },
  {
   "cell_type": "code",
   "execution_count": null,
   "id": "242b1785",
   "metadata": {},
   "outputs": [],
   "source": [
    "import pandas as pd\n",
    "import matplotlib.pyplot as plt"
   ]
  },
  {
   "cell_type": "code",
   "execution_count": null,
   "id": "858bf3c8",
   "metadata": {},
   "outputs": [],
   "source": [
    "# Data Loading\n",
    "print(\"LOADING THE REQUIRED DATASET AND MERGING THEM BASED ON COLUMN NOC\")\n",
    "athlete_df=pd.read_csv(\"athlete_events.csv\")\n",
    "noc_df=pd.read_csv(\"noc_regions.csv\")\n",
    "athlete_merged_df=athlete_df.merge(noc_df,how=\"inner\",on=\"NOC\")"
   ]
  },
  {
   "cell_type": "code",
   "execution_count": null,
   "id": "89e7b64b",
   "metadata": {},
   "outputs": [],
   "source": [
    "print(f\"\\t\\t\\t\\tAbout Dataset\\n\\n\\t\\tShape of Dataset => {athlete_merged_df.shape}\\n\\n\\t\\tColumns of Dataset are\\n\\n{athlete_merged_df.columns}\\n\\n\\t\\tCount of Null\\n\\n{athlete_merged_df.isnull().sum()}\")"
   ]
  },
  {
   "cell_type": "code",
   "execution_count": null,
   "id": "1f117dba",
   "metadata": {},
   "outputs": [],
   "source": [
    "print(f\"Information About Dataset\\n\")\n",
    "{athlete_merged_df.info()}"
   ]
  },
  {
   "cell_type": "code",
   "execution_count": null,
   "id": "45e58c6c",
   "metadata": {},
   "outputs": [],
   "source": [
    "print(\"\\t\\t\\t\\tRANDOM 10 DATA FROM ATHELETE DATASET\")\n",
    "athlete_merged_df.sample(10)"
   ]
  },
  {
   "cell_type": "code",
   "execution_count": null,
   "id": "59077805",
   "metadata": {},
   "outputs": [],
   "source": [
    "print(\"FILL THE NULL VALUE WITH AVERAGE VALUE IN COLUMNS { HEIGHT, WEIGHT, AGE }\")\n",
    "athlete_merged_df.fillna({'Height':athlete_merged_df['Height'].mean()},inplace=True)\n",
    "athlete_merged_df.fillna({'Weight':athlete_merged_df['Weight'].mean()},inplace=True)\n",
    "athlete_merged_df.fillna({'Age':athlete_merged_df['Age'].mean()},inplace=True)"
   ]
  },
  {
   "cell_type": "code",
   "execution_count": null,
   "id": "3f0223e5",
   "metadata": {},
   "outputs": [],
   "source": [
    "athlete_merged_df.drop(columns=\"notes\",inplace=True)"
   ]
  },
  {
   "cell_type": "code",
   "execution_count": null,
   "id": "deafe07d",
   "metadata": {},
   "outputs": [],
   "source": [
    "print(\"CHECKING FOR NEW NULL VALUES\")\n",
    "athlete_merged_df.isnull().sum()"
   ]
  },
  {
   "cell_type": "markdown",
   "id": "c25f4ee1",
   "metadata": {},
   "source": [
    "### The data is cleaned"
   ]
  },
  {
   "cell_type": "markdown",
   "id": "e4bc6337",
   "metadata": {},
   "source": [
    "## Part A : Basic EDA"
   ]
  },
  {
   "cell_type": "code",
   "execution_count": null,
   "id": "bbabf75d",
   "metadata": {},
   "outputs": [],
   "source": [
    "# How many unique sports are there in the Olympics dataset?\n",
    "sports_array=athlete_merged_df[\"Sport\"].nunique()\n",
    "print(f\"No of unique sports in the Olympics dataset => {sports_array}\")"
   ]
  },
  {
   "cell_type": "code",
   "execution_count": null,
   "id": "e2d07c26",
   "metadata": {},
   "outputs": [],
   "source": [
    "# Which year had the maximum number of participating athletes?\n",
    "athletics_df=athlete_merged_df[athlete_merged_df[\"Sport\"]=='Athletics']\n",
    "result=athletics_df['Year'].value_counts().sort_values(ascending=False).head(1)\n",
    "print(\"Year with the maximum number of participating Athletics \\n\",result)"
   ]
  },
  {
   "cell_type": "code",
   "execution_count": null,
   "id": "f69b5f38",
   "metadata": {},
   "outputs": [],
   "source": [
    "result=athlete_df.groupby(\"Year\")[\"Name\"].nunique().sort_values(ascending=False).head(1)\n",
    "print(\"Year with the maximum number of participating athletes \\n\",result)"
   ]
  },
  {
   "cell_type": "code",
   "execution_count": null,
   "id": "85941c0f",
   "metadata": {},
   "outputs": [],
   "source": [
    "# Which country has won the highest total number of medals?\n",
    "result=athlete_merged_df.groupby('region')['Medal'].count().sort_values(ascending=False).head(1)\n",
    "print(\"country that has won the highest total number of medals are \\n\",result)"
   ]
  },
  {
   "cell_type": "code",
   "execution_count": null,
   "id": "fe2032a4",
   "metadata": {},
   "outputs": [],
   "source": [
    "# Who is the most decorated Olympic athlete (by total medals)?\n",
    "print(\"the most decorated Olympic athlete (by total medals)\")\n",
    "athlete_merged_df.groupby(\"Name\")['Medal'].value_counts().sort_values(ascending=False).unstack(fill_value=0).head(1)"
   ]
  },
  {
   "cell_type": "code",
   "execution_count": null,
   "id": "78b7274b",
   "metadata": {},
   "outputs": [],
   "source": [
    "# Find the trend of female athlete participation across the years.\n",
    "female_df=athlete_merged_df[athlete_merged_df['Sex']=='F'].drop_duplicates([\"Name\",\"Year\"])\n",
    "count=female_df.groupby(\"Year\")[\"Name\"].nunique()\n",
    "\n",
    "plt.plot(count.index,count.values,marker='o',color='purple',label=\"Female Athletes (count)\")\n",
    "plt.title(\"Trend of Female Athlete Participation in the Olympics\")\n",
    "plt.legend()\n",
    "plt.xlabel(\"year\")\n",
    "plt.ylabel(\"Count\")\n",
    "plt.grid(color=\"gray\",linestyle=\"--\")\n",
    "plt.show()"
   ]
  },
  {
   "cell_type": "markdown",
   "id": "89610588",
   "metadata": {},
   "source": [
    "## Part B : Intermediate EDA"
   ]
  },
  {
   "cell_type": "code",
   "execution_count": null,
   "id": "d1f83796",
   "metadata": {},
   "outputs": [],
   "source": [
    "# Compare Summer vs Winter Olympics in terms of total medals awarded\n",
    "print(\"Summer vs Winter Olympics in terms of total medals awarded\")\n",
    "athlete_merged_df.dropna(subset='Medal').groupby(\"Season\")[\"Medal\"].count()"
   ]
  },
  {
   "cell_type": "code",
   "execution_count": null,
   "id": "a8beb632",
   "metadata": {},
   "outputs": [],
   "source": [
    "# Which age group (<20, 20–30, 30–40, >40) has the highest chance of winning medals?\n",
    "athlete_merged_df['Age-Group']=pd.cut(athlete_merged_df[\"Age\"],bins=[0,20,30,40,100],labels=['<20', '20–30', '30–40', '>40'])\n",
    "medal_age_grp=athlete_merged_df.dropna(subset='Medal').groupby(\"Age-Group\",observed=True)['Name'].count()\n",
    "print(\"\\nMedals By Age Group\\n\",medal_age_grp)\n",
    "tot_part_age_grp=athlete_merged_df.groupby(\"Age-Group\",observed=True)[\"Name\"].count()\n",
    "print(\"\\nTotal Participation By Age Group\\n\",tot_part_age_grp)\n",
    "chance=round((medal_age_grp/tot_part_age_grp)*100,2).reset_index().max()\n",
    "print(\"\\nAge Group that has the highest chance of winning medals is\\n\",chance)"
   ]
  },
  {
   "cell_type": "code",
   "execution_count": null,
   "id": "fc010c71",
   "metadata": {},
   "outputs": [],
   "source": [
    "# What is the distribution of medals by gender?\n",
    "print(\"The distribution of medals by gender\")\n",
    "athlete_merged_df.dropna(subset=\"Medal\").groupby(\"Sex\")[\"Medal\"].count()"
   ]
  },
  {
   "cell_type": "code",
   "execution_count": null,
   "id": "253e03cf",
   "metadata": {},
   "outputs": [],
   "source": [
    "# Which countries have dominated in Swimming and Athletics over the years?\n",
    "athlete_merged_df.dropna(subset='Medal').query(\"Sport in ['Swimming' , 'Athletics']\").groupby([\"region\",'Sport'])[\"Medal\"].count().sort_values(ascending=False).head(10)"
   ]
  },
  {
   "cell_type": "code",
   "execution_count": null,
   "id": "7c13b9f0",
   "metadata": {},
   "outputs": [],
   "source": [
    "# Top 10 athletes with the longest Olympic careers (span between first and last participation)\n",
    "career_span=athlete_merged_df.groupby(\"Name\")[\"Year\"].agg(['max','min'])\n",
    "career_span[\"Span\"]=career_span[\"max\"]-career_span['min']\n",
    "print(\"Top 10 athletes with the longest Olympic careers\\n\")\n",
    "career_span.sort_values(\"Span\",ascending=False).head(10)"
   ]
  },
  {
   "cell_type": "markdown",
   "id": "3ddc0f13",
   "metadata": {},
   "source": [
    "## Part C : Tricky / Knowledge Engineering Style"
   ]
  },
  {
   "cell_type": "code",
   "execution_count": null,
   "id": "344c4a78",
   "metadata": {},
   "outputs": [],
   "source": [
    "# Is there a correlation between Height/Weight and medal-winning in certain sports (e.g., Basketball, Gymnastics)?\n",
    "subset=athlete_merged_df.query('Sport in [\\'Basketball\\']')\n",
    "medal_df=subset[subset[\"Medal\"].notna()]\n",
    "non_medal_df=subset[subset[\"Medal\"].isna()]\n",
    "fig,ax=plt.subplots(1,2,figsize=(10,5))\n",
    "fig.supxlabel(\"Height\")\n",
    "fig.supylabel(\"weight\")\n",
    "ax[0].scatter(medal_df['Height'],medal_df['Weight'],c=\"red\",edgecolors=\"black\",alpha=0.3,label=\"Medalist\")\n",
    "ax[0].set_title(\"Height VS Weight Of Medalist\")\n",
    "ax[0].legend()\n",
    "ax[1].scatter(non_medal_df['Height'],non_medal_df['Weight'],c=\"yellow\",edgecolors=\"black\",alpha=0.7,label=\"Non-Medalist\")\n",
    "ax[1].set_title(\"Height VS Weight Of Non-Medalist\")\n",
    "ax[1].legend()\n",
    "plt.tight_layout()\n",
    "plt.show()\n",
    "print(\"Yes, there a correlation between Height/Weight and medal-winning in certain sports\")"
   ]
  },
  {
   "cell_type": "code",
   "execution_count": null,
   "id": "7ac88aba",
   "metadata": {},
   "outputs": [],
   "source": [
    "#  Which countries have the highest medal-to-participation ratio (efficient performers)?\n",
    "total_participation_per_country=athlete_merged_df.groupby(\"region\")[\"Name\"].nunique()\n",
    "total_medal_per_country=athlete_merged_df.dropna(subset=\"Medal\").groupby(\"region\")[\"Medal\"].count()\n",
    "print(\"Countries that have the highest medal-to-participation ratio (efficient performers) are\")\n",
    "(total_medal_per_country/total_participation_per_country).sort_values(ascending=False).head(10).index"
   ]
  },
  {
   "cell_type": "code",
   "execution_count": null,
   "id": "d229adbc",
   "metadata": {},
   "outputs": [],
   "source": [
    "# Identify athletes who have won medals in multiple sports.\n",
    "athletes_with_medal=athlete_merged_df.dropna(subset=\"Medal\").groupby(\"Name\")[\"Sport\"].nunique()\n",
    "result=athletes_with_medal[athletes_with_medal>1].sort_values(ascending=False).head(1)\n",
    "print(\"Athletes who have won medals in multiple sports \\n\",result)"
   ]
  },
  {
   "cell_type": "code",
   "execution_count": null,
   "id": "4010c583",
   "metadata": {},
   "outputs": [],
   "source": [
    "# For each host country, did their medal count improve when they hosted compared to the Olympics before/after?\n",
    "# Medal counts by year and country\n",
    "medal_per_year=athlete_merged_df.dropna(subset=\"Medal\").groupby(['Year','region'])['Medal'].count().reset_index()\n",
    "# Host years and countries\n",
    "hosts=athlete_merged_df.drop_duplicates(subset=['Year','City'])[['Year','region','City']].dropna()\n",
    "medal_per_year.merge(hosts,on=['Year','region'],how=\"inner\").sort_values(\"region\")"
   ]
  },
  {
   "cell_type": "code",
   "execution_count": null,
   "id": "29d833da",
   "metadata": {},
   "outputs": [],
   "source": [
    "# Which sports are most gender-balanced vs most gender-skewed in participation?\n",
    "gender_counts=athlete_merged_df.groupby([\"Sport\",\"Sex\"])[\"Name\"].nunique().unstack(fill_value=0)\n",
    "gender_counts[\"Gender-Ratio\"]=gender_counts.min(axis=1)/gender_counts.max(axis=1)\n",
    "gender_balanced=gender_counts.sort_values(\"Gender-Ratio\",ascending=False).head(10)\n",
    "gender_skewed=gender_counts.sort_values(\"Gender-Ratio\").head(10)\n",
    "print(\"Sports are most gender-balanced in participation\\n\\n\",gender_balanced)\n",
    "print(\"\\nSports are most gender-skewed in participation\\n\\n\",gender_skewed)"
   ]
  },
  {
   "cell_type": "markdown",
   "id": "c2dcb840",
   "metadata": {},
   "source": [
    "## Part D : Advanced Knowledge Engineering\n"
   ]
  },
  {
   "cell_type": "code",
   "execution_count": null,
   "id": "01eb43d9",
   "metadata": {},
   "outputs": [],
   "source": [
    "# Using NOC mapping, group medals by continent – which continent dominates overall?\n",
    "res=athlete_merged_df.dropna(subset=\"Medal\").groupby(\"region\")[\"Medal\"].count()\n",
    "print(f\"{res.idxmax()} dominates overall with count {res.max()}\")"
   ]
  },
  {
   "cell_type": "code",
   "execution_count": null,
   "id": "1b75cf85",
   "metadata": {},
   "outputs": [],
   "source": [
    "# Are team sports (e.g., Football, Hockey) more dominated by certain regions compared to individual sports?\n",
    "team_sports = [\n",
    "    \"Basketball\",\"Football\",\"Tug-Of-War\",\"Ice Hockey\",\"Handball\",\n",
    "    \"Water Polo\",\"Hockey\",\"Rowing\",\"Softball\",\"Volleyball\",\n",
    "    \"Synchronized Swimming\",\"Baseball\",\"Rugby Sevens\",\"Beach Volleyball\",\n",
    "    \"Curling\",\"Rugby\",\"Lacrosse\",\"Polo\",\"Cricket\",\"Military Ski Patrol\"\n",
    "]\n",
    "athlete_merged_df[\"Sport_Type\"]=athlete_merged_df['Sport'].apply(lambda x : \"Team\" if x in team_sports else \"Individual\")\n",
    "team_country=athlete_merged_df.groupby([\"region\",'Sport_Type'])[\"Medal\"].count().unstack(fill_value=0).sort_values(by=\"Team\",ascending=False).head(5)\n",
    "plt.plot(team_country.index,team_country.Individual,marker='o',color=\"green\",label=\"Individual Sport\")\n",
    "plt.plot(team_country.index,team_country.Team,marker='o',color=\"brown\",label=\"Team Sport\")\n",
    "plt.legend()\n",
    "plt.title(\"Team VS Individual Medal Count per Region\")\n",
    "plt.xlabel(\"Region\")\n",
    "plt.ylabel(\"Medal Count\")\n",
    "plt.show()\n",
    "print(\"Individual sports contribute the majority of medals overall, while team sports are dominated by a smaller set of regions (e.g., USA, Russia, Germany, Canada).\")"
   ]
  },
  {
   "cell_type": "code",
   "execution_count": null,
   "id": "4da6a149",
   "metadata": {},
   "outputs": [],
   "source": [
    "# Which athletes participated in the most Olympics without ever winning a medal?\n",
    "athletes_list=athlete_merged_df[athlete_merged_df['Medal'].isna()].groupby('Name')['Year'].nunique().sort_values(ascending=False).head(10)\n",
    "print(\"Athletes that participated in the most Olympics without ever winning a medal are\")\n",
    "athletes_list"
   ]
  },
  {
   "cell_type": "code",
   "execution_count": null,
   "id": "9ef6eb61",
   "metadata": {},
   "outputs": [],
   "source": [
    "# Has the average age of medal winners increased or decreased over time?\n",
    "athlete_merged_df['Age']=round(athlete_merged_df[\"Age\"])\n",
    "atheletes_list=athlete_merged_df.dropna(subset='Medal').groupby([\"Year\"])[\"Age\"].mean()\n",
    "plt.plot(atheletes_list.index,atheletes_list.values,marker=\"o\",color=\"purple\")\n",
    "plt.xlabel(\"Year\")\n",
    "plt.ylabel(\"Average Age\")\n",
    "plt.title(\"Average Age Over Time\")\n",
    "plt.show()\n",
    "if atheletes_list.iloc[-1] > atheletes_list.iloc[0]:\n",
    "    print(\"The average age of medal winners has increased over time\")\n",
    "else:\n",
    "    print(\"The average age of medal winners has decreased over time\")"
   ]
  },
  {
   "cell_type": "code",
   "execution_count": null,
   "id": "ba491c2d",
   "metadata": {},
   "outputs": [],
   "source": [
    "print(\"Saving Cleaned Dataset\")\n",
    "athlete_merged_df.to_csv(\"Full_cleaned_Olympics_DS_1896-2016.csv\")"
   ]
  }
 ],
 "metadata": {
  "kernelspec": {
   "display_name": ".venv (3.13.5)",
   "language": "python",
   "name": "python3"
  },
  "language_info": {
   "codemirror_mode": {
    "name": "ipython",
    "version": 3
   },
   "file_extension": ".py",
   "mimetype": "text/x-python",
   "name": "python",
   "nbconvert_exporter": "python",
   "pygments_lexer": "ipython3",
   "version": "3.13.5"
  }
 },
 "nbformat": 4,
 "nbformat_minor": 5
}
