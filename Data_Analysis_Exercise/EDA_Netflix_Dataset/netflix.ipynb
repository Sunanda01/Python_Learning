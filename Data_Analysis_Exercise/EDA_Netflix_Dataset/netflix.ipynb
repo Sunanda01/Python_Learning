{
 "cells": [
  {
   "cell_type": "markdown",
   "id": "ea78263d",
   "metadata": {},
   "source": [
    "# EDA + Feature Engineering Assignment on Netflix Dataset\n",
    "## Part A – Exploratory Data Analysis\n",
    "- Data Inspection\n",
    "    - Load dataset into Pandas.\n",
    "    - Show first 5 rows, shape, columns, and data types.\n",
    "    - Check missing values per column.\n",
    "    - How many unique countries, directors, and genres?\n",
    "\n",
    "- Univariate Analysis\n",
    "    - Countplot (use plt.bar) for type → Movies vs TV Shows.\n",
    "    - Most common ratings (top 10).\n",
    "    - Distribution of release_year → plot histogram.\n",
    "    - Which decade had the highest number of releases?\n",
    "\n",
    "- Bivariate Analysis\n",
    "    - Movies vs TV Shows trend over the years → line plot.\n",
    "    - Distribution of duration:\n",
    "        - For Movies: histogram of minutes (after extracting integer).\n",
    "        - For TV Shows: bar chart of number of seasons.\n",
    "    - Top 10 countries producing most content → bar chart.\n",
    "\n",
    "- Text/Genre Analysis\n",
    "    - Split listed_in (genres) and count frequency of genres.\n",
    "    - Which genre is most common globally?\n",
    "    - Compare top genres in Movies vs TV Shows.\n",
    "\n",
    "## Part B – Feature / Knowledge Engineering\n",
    "- Date Features\n",
    "    - Convert date_added to datetime.\n",
    "    - Create new columns: year_added, month_added.\n",
    "    - Plot number of shows added by year.\n",
    "\n",
    "- Duration Features\n",
    "    - Create new column duration_int:\n",
    "        - If Movie → extract minutes as integer.\n",
    "        - If TV Show → extract seasons as integer.\n",
    "    - Create categories:\n",
    "        - Movies: Short (<60 min), Medium (60–120), Long (>120).\n",
    "        - TV Shows: Limited (≤2 seasons), Ongoing (>2).\n",
    "\n",
    "- Genre Features\n",
    "    - Create binary features: e.g., is_Comedy, is_Drama, is_Action.\n",
    "    - Which genres dominate in different decades?\n",
    "\n",
    "- Country Features\n",
    "    - Create is_USA column (whether produced in the USA).\n",
    "    - Compare USA vs Non-USA content share over time.\n",
    "\n",
    "- Text Features\n",
    "    - From description, create a description_length column (word count).\n",
    "    - Does description length differ between Movies and TV Shows?\n",
    "\n",
    "## Part C – Mini Assignment Questions\n",
    "- Which year had the most releases on Netflix?\n",
    "- Do Movies or TV Shows dominate the platform?\n",
    "- Which 3 countries contribute the most content?\n",
    "- Which rating is most common among Movies? Among TV Shows?\n",
    "- Do Movies tend to be longer now compared to older ones?\n",
    "- Which genres are most associated with Movies vs TV Shows?\n",
    "- Which decade saw the largest growth in Netflix content?\n",
    "- Is there a difference in description_length between Movies and TV Shows?"
   ]
  },
  {
   "cell_type": "code",
   "execution_count": null,
   "id": "23953a1d",
   "metadata": {},
   "outputs": [],
   "source": [
    "import pandas as pd\n",
    "import matplotlib.pyplot as plt\n",
    "from datetime import date, time, datetime"
   ]
  },
  {
   "cell_type": "markdown",
   "id": "d83ee681",
   "metadata": {},
   "source": [
    "## Part A – Exploratory Data Analysis"
   ]
  },
  {
   "cell_type": "markdown",
   "id": "6afb10a8",
   "metadata": {},
   "source": [
    "### 1. Data Inspection"
   ]
  },
  {
   "cell_type": "code",
   "execution_count": null,
   "id": "f43913be",
   "metadata": {},
   "outputs": [],
   "source": [
    "print(\"load dataset\")\n",
    "netflix_df=pd.read_csv('netflix_titles.csv')"
   ]
  },
  {
   "cell_type": "code",
   "execution_count": null,
   "id": "980f1e9a",
   "metadata": {},
   "outputs": [],
   "source": [
    "print(\"first five rows\")\n",
    "netflix_df.head()"
   ]
  },
  {
   "cell_type": "code",
   "execution_count": null,
   "id": "3349b7b2",
   "metadata": {},
   "outputs": [],
   "source": [
    "\n",
    "print(\"Shape of Dataset = \", netflix_df.shape)"
   ]
  },
  {
   "cell_type": "code",
   "execution_count": null,
   "id": "3c172334",
   "metadata": {},
   "outputs": [],
   "source": [
    "print(\"Columns = \",netflix_df.columns)"
   ]
  },
  {
   "cell_type": "code",
   "execution_count": null,
   "id": "73339ca9",
   "metadata": {},
   "outputs": [],
   "source": [
    "print(\"DataTypes \")\n",
    "netflix_df.info()"
   ]
  },
  {
   "cell_type": "code",
   "execution_count": null,
   "id": "2addfcc7",
   "metadata": {},
   "outputs": [],
   "source": [
    "print(\"Missing value per column\\n\",netflix_df.isnull().sum())"
   ]
  },
  {
   "cell_type": "code",
   "execution_count": null,
   "id": "d140a036",
   "metadata": {},
   "outputs": [],
   "source": [
    "unique_country=netflix_df['country'].nunique()\n",
    "unique_director=netflix_df['director'].nunique()\n",
    "unique_genres=netflix_df['listed_in'].nunique()\n",
    "print(f\"Unique Country {unique_country}\\nUnique Director {unique_director}\\nUnique Genres {unique_genres}\")"
   ]
  },
  {
   "cell_type": "markdown",
   "id": "01929723",
   "metadata": {},
   "source": [
    "### 2. Univariate Analysis"
   ]
  },
  {
   "cell_type": "code",
   "execution_count": null,
   "id": "d4515a98",
   "metadata": {},
   "outputs": [],
   "source": [
    "counts=netflix_df['type'].value_counts()\n",
    "plt.bar(counts.index,counts.values,color=['purple','pink'],edgecolor=\"black\")\n",
    "plt.grid(color=\"#bababadc\",linestyle=\"--\")\n",
    "plt.title(\"Movies vs TV Show\")\n",
    "plt.xlabel(\"Type\")\n",
    "plt.ylabel(\"Count\")\n",
    "plt.show()"
   ]
  },
  {
   "cell_type": "code",
   "execution_count": null,
   "id": "727ebb66",
   "metadata": {},
   "outputs": [],
   "source": [
    "counts=netflix_df['rating'].value_counts().head(10)\n",
    "plt.bar(counts.index,counts.values,color='aqua',edgecolor=\"black\")\n",
    "plt.grid(color=\"#bababadc\",linestyle=\"--\")\n",
    "plt.title(\"Top 10 Rating\")\n",
    "plt.xlabel(\"Rating\")\n",
    "plt.ylabel(\"Counts\")\n",
    "plt.show()"
   ]
  },
  {
   "cell_type": "code",
   "execution_count": null,
   "id": "a6933c49",
   "metadata": {},
   "outputs": [],
   "source": [
    "plt.hist(netflix_df['release_year'],bins=30,edgecolor=\"red\",color=\"pink\")\n",
    "plt.title(\"Distribution of Release Years\")\n",
    "plt.xlabel(\"release year\")\n",
    "plt.ylabel(\"no of titles\")\n",
    "plt.show()"
   ]
  },
  {
   "cell_type": "code",
   "execution_count": null,
   "id": "04849d7f",
   "metadata": {},
   "outputs": [],
   "source": [
    "netflix_df['decade']=(netflix_df['release_year']//10)*10\n",
    "counts=netflix_df['decade'].value_counts()\n",
    "print(counts.head(1))\n",
    "plt.bar(counts.index.astype(str),counts.values,edgecolor=\"red\",color=\"pink\")\n",
    "plt.title(\"Number of release by Decade\")\n",
    "plt.xlabel(\"Decade\")\n",
    "plt.ylabel(\"Movies Count\")\n",
    "plt.show()"
   ]
  },
  {
   "cell_type": "markdown",
   "id": "678b8e3a",
   "metadata": {},
   "source": [
    "### 3. Bivariate Analysis"
   ]
  },
  {
   "cell_type": "code",
   "execution_count": null,
   "id": "dab0d467",
   "metadata": {},
   "outputs": [],
   "source": [
    "trend=netflix_df.groupby(['release_year','type']).size().unstack(fill_value=0)\n",
    "plt.plot(trend.index,trend['Movie'],color='purple',label=\"Movie\")\n",
    "plt.plot(trend.index,trend['TV Show'],color='red',label=\"TV Show\")\n",
    "plt.legend()\n",
    "plt.grid(color=\"gray\",linestyle=\"--\")\n",
    "plt.title(\"Movies vs TV Shows Trend Over Years\")\n",
    "plt.xlabel(\"yera\")\n",
    "plt.ylabel(\"Number of titles\")\n",
    "plt.show()"
   ]
  },
  {
   "cell_type": "code",
   "execution_count": null,
   "id": "38ea9d17",
   "metadata": {},
   "outputs": [],
   "source": [
    "subset=netflix_df[netflix_df['type']=='Movie'].copy()\n",
    "subset['duration']=subset['duration'].str.replace(\" min\",\"\").astype(float)\n",
    "plt.hist(subset['duration'],bins=8,color='yellow',edgecolor='red')\n",
    "plt.title(\"Distribution of Movie Durations\")\n",
    "plt.xlabel(\"Duration (minutes)\")\n",
    "plt.ylabel(\"Number of Movies\")\n",
    "plt.show()"
   ]
  },
  {
   "cell_type": "code",
   "execution_count": null,
   "id": "8c88e9a0",
   "metadata": {},
   "outputs": [],
   "source": [
    "subset=netflix_df[netflix_df['type']=='TV Show'].copy()\n",
    "subset['duration']=subset['duration'].str.replace(\" Seasons\",\"\").str.replace(\" Season\",\"\").astype(int)\n",
    "counts=subset['duration'].value_counts().sort_index()\n",
    "plt.bar(counts.index,counts.values,color=\"orange\",edgecolor=\"red\")\n",
    "plt.title(\"Distribution of TV Show Seasons\")\n",
    "plt.xlabel(\"No of seasons\")\n",
    "plt.ylabel(\"counts\")\n",
    "plt.show()"
   ]
  },
  {
   "cell_type": "code",
   "execution_count": null,
   "id": "993cbcb9",
   "metadata": {},
   "outputs": [],
   "source": [
    "country=netflix_df['country'].dropna().str.split(\",\")\n",
    "country_flat=[]\n",
    "for c in country:\n",
    "    for subcountry in c:\n",
    "        country_flat.append(subcountry.strip())\n",
    "country_counts=pd.Series(country_flat).value_counts().head(10)\n",
    "print(country_counts)\n",
    "plt.figure(figsize=(13,5))\n",
    "plt.bar(country_counts.index,country_counts.values,color='teal',edgecolor='blue')\n",
    "plt.title(\"Top 10 Content-Producing Countries\")\n",
    "plt.xlabel(\"Countries\")\n",
    "plt.ylabel(\"No of titles\")\n",
    "plt.tight_layout()\n",
    "plt.show()"
   ]
  },
  {
   "cell_type": "markdown",
   "id": "e913ff9b",
   "metadata": {},
   "source": [
    "### 4. Text/Genre Analysis"
   ]
  },
  {
   "cell_type": "code",
   "execution_count": null,
   "id": "f93543c0",
   "metadata": {},
   "outputs": [],
   "source": [
    "genre_list=netflix_df['listed_in'].str.split(\",\")\n",
    "genre=[g.strip() for genre in genre_list for g in genre]\n",
    "counts=pd.Series(genre).value_counts().head()\n",
    "print(counts)\n",
    "plt.figure(figsize=(12,5))\n",
    "plt.bar(counts.index,counts.values,color=\"purple\",edgecolor=\"teal\")\n",
    "plt.title(\"Top 10 Genres in World\")\n",
    "plt.xlabel(\"Genres\")\n",
    "plt.ylabel(\"Count\")\n",
    "plt.tight_layout()\n",
    "plt.show()"
   ]
  },
  {
   "cell_type": "code",
   "execution_count": null,
   "id": "6ccb29a0",
   "metadata": {},
   "outputs": [],
   "source": [
    "print(f\"Mmost common globally genre is {counts.idxmax()}\")"
   ]
  },
  {
   "cell_type": "code",
   "execution_count": null,
   "id": "d981ade6",
   "metadata": {},
   "outputs": [],
   "source": [
    "movie_genre_df=netflix_df[netflix_df['type']=='Movie']\n",
    "movie_genre=movie_genre_df['listed_in'].str.split(',')\n",
    "movie_genre_list=[g.strip() for genre in movie_genre for g in genre]\n",
    "top_movie_genre=pd.Series(movie_genre_list).value_counts().head(10)\n",
    "# print(top_movie_genre)\n",
    "\n",
    "tv_shows_genre=netflix_df[netflix_df['type']==\"TV Show\"]['listed_in'].str.split(',')\n",
    "top_tv_show_genre=pd.Series([g.strip() for genre in tv_shows_genre for g in genre]).value_counts().head(10)\n",
    "# print(top_tv_show_genre)\n",
    "\n",
    "fig,ax=plt.subplots(1,2,figsize=(15,6))\n",
    "fig.suptitle(\"Top Genres in Movies vs TV Shows.\")\n",
    "fig.supxlabel(\"genre\")\n",
    "fig.supylabel(\"frequency Count\")\n",
    "\n",
    "ax[0].bar(top_movie_genre.index,top_movie_genre.values,color=\"green\",edgecolor='yellow')\n",
    "ax[0].set_title(\"Top 10 Movie genre\")\n",
    "ax[0].set_xticklabels(top_movie_genre.index,rotation=45,ha=\"right\")\n",
    "\n",
    "ax[1].bar(top_tv_show_genre.index,top_tv_show_genre.values,color=\"purple\",edgecolor='yellow')\n",
    "ax[1].set_title(\"Top 10 TV Shows genre\")\n",
    "ax[1].set_xticklabels(top_tv_show_genre.index,rotation=90,ha=\"right\")\n",
    "plt.tight_layout()\n",
    "plt.show()\n"
   ]
  },
  {
   "cell_type": "markdown",
   "id": "56395e77",
   "metadata": {},
   "source": [
    "## Part B – Feature / Knowledge Engineering"
   ]
  },
  {
   "cell_type": "markdown",
   "id": "27fa1acf",
   "metadata": {},
   "source": [
    "### 1. Date Features"
   ]
  },
  {
   "cell_type": "code",
   "execution_count": null,
   "id": "1556022e",
   "metadata": {},
   "outputs": [],
   "source": [
    "netflix_df['date_added']=pd.to_datetime(netflix_df['date_added'],errors=\"coerce\")\n",
    "netflix_df.head()"
   ]
  },
  {
   "cell_type": "code",
   "execution_count": null,
   "id": "c5f9faba",
   "metadata": {},
   "outputs": [],
   "source": [
    "netflix_df['year_added']=netflix_df['date_added'].dt.year\n",
    "netflix_df['month_added']=netflix_df['date_added'].dt.month\n",
    "netflix_df.columns\n"
   ]
  },
  {
   "cell_type": "code",
   "execution_count": null,
   "id": "35cc867e",
   "metadata": {},
   "outputs": [],
   "source": [
    "points=netflix_df.groupby('year_added')['type'].count()\n",
    "print(points)\n",
    "plt.plot(points,color=\"brown\")\n",
    "plt.grid(color=\"gray\",linestyle=\"--\")\n",
    "plt.title(\"Count of Movies added per year\")\n",
    "plt.xlabel(\"Year Added\")\n",
    "plt.ylabel(\"Movie Counts\")\n"
   ]
  },
  {
   "cell_type": "code",
   "execution_count": null,
   "id": "368daefd",
   "metadata": {},
   "outputs": [],
   "source": [
    "# Count shows by year_added\n",
    "year_counts = netflix_df['year_added'].value_counts().sort_index()\n",
    "\n",
    "# Plot\n",
    "plt.figure(figsize=(10,5))\n",
    "plt.plot(year_counts,color=\"skyblue\")\n",
    "plt.title(\"Number of Shows Added by Year\")\n",
    "plt.xlabel(\"Year Added\")\n",
    "plt.ylabel(\"Count of Shows\")\n",
    "plt.xticks(rotation=45)\n",
    "plt.show()\n"
   ]
  },
  {
   "cell_type": "markdown",
   "id": "88424316",
   "metadata": {},
   "source": [
    "### 2. Duration Features"
   ]
  },
  {
   "cell_type": "code",
   "execution_count": null,
   "id": "483a0251",
   "metadata": {},
   "outputs": [],
   "source": [
    "# create new column duration_int\n",
    "netflix_df['duration_int']=netflix_df['duration'].str.replace(\" min\",\"\").str.replace(\" Seasons\",\"\").str.replace(\" Season\",\"\").astype(float)"
   ]
  },
  {
   "cell_type": "code",
   "execution_count": null,
   "id": "a036807f",
   "metadata": {},
   "outputs": [],
   "source": [
    "movie=pd.cut(netflix_df.loc[netflix_df['type']=='Movie']['duration_int'],bins=[0,60,120,1000],labels=[\"Short\",\"Medium\",\"Long\"])\n",
    "show=pd.cut(netflix_df.loc[netflix_df['type']==\"TV Show\"]['duration_int'],bins=[0,2,10],labels=['Limited','Ongoing'])\n",
    "netflix_df['category']=pd.concat([movie,show])\n",
    "netflix_df.sample(5)"
   ]
  },
  {
   "cell_type": "markdown",
   "id": "d7e6d445",
   "metadata": {},
   "source": [
    "### 3. Genre Features"
   ]
  },
  {
   "cell_type": "code",
   "execution_count": null,
   "id": "ca700f75",
   "metadata": {},
   "outputs": [],
   "source": [
    "netflix_df['isComedy']=netflix_df['listed_in'].str.contains('Comedies','Comedy').astype(int)\n",
    "netflix_df['isDrama']=netflix_df['listed_in'].str.contains(\"Dramas\",case=False,na=False).astype(int)\n",
    "netflix_df['isAction']=netflix_df['listed_in'].str.contains(\"Action\",case=False,na=False).astype(int)\n",
    "netflix_df.head()"
   ]
  },
  {
   "cell_type": "code",
   "execution_count": null,
   "id": "05eba47b",
   "metadata": {},
   "outputs": [],
   "source": [
    "comedy_count=netflix_df.groupby(['decade'])['isComedy'].sum()\n",
    "drama_count=netflix_df.groupby(['decade'])['isDrama'].sum()\n",
    "action_count=netflix_df.groupby(['decade'])['isAction'].sum()\n",
    "plt.plot(comedy_count.index,comedy_count.values,color=\"red\")\n",
    "plt.plot(drama_count.index,drama_count.values,color=\"blue\")\n",
    "plt.plot(action_count.index,action_count.values,color=\"green\")"
   ]
  },
  {
   "cell_type": "code",
   "execution_count": null,
   "id": "912c460e",
   "metadata": {},
   "outputs": [],
   "source": [
    "df_exploded = netflix_df.assign(genre=netflix_df['listed_in'].str.split(',')).explode('genre')\n",
    "df_exploded['genre'] = df_exploded['genre'].str.strip()\n",
    "genre_count_per_decade=df_exploded.groupby(['decade','genre']).size().reset_index(name=\"countNum\").sort_values(ascending=False,by=\"countNum\",ignore_index=True)\n",
    "genre_count_per_decade"
   ]
  },
  {
   "cell_type": "markdown",
   "id": "88f985ce",
   "metadata": {},
   "source": [
    "### 4. Country Features"
   ]
  },
  {
   "cell_type": "code",
   "execution_count": null,
   "id": "07e00546",
   "metadata": {},
   "outputs": [],
   "source": [
    "netflix_df['isUSA']=netflix_df['country'].str.contains(\"United States\",case=False,na=False).astype(int)\n",
    "netflix_df.sample(3)"
   ]
  },
  {
   "cell_type": "code",
   "execution_count": null,
   "id": "0ed60b4f",
   "metadata": {},
   "outputs": [],
   "source": [
    "usa_percent=netflix_df['isUSA'].value_counts(normalize=True)*100\n",
    "usa_percent"
   ]
  },
  {
   "cell_type": "code",
   "execution_count": null,
   "id": "e28f8db6",
   "metadata": {},
   "outputs": [],
   "source": [
    "usa_trend = netflix_df.groupby('decade')['isUSA'].mean() * 100\n",
    "non_usa_trend=netflix_df.groupby('decade')['isUSA'].apply(lambda x:1-x.mean())*100\n",
    "usa_trend.plot(kind='line', marker='o', label=\"USA Content\",color=\"red\")\n",
    "non_usa_trend.plot(kind='line', marker='o', label=\"Non USA Content\",color=\"blue\")\n",
    "plt.xlabel(\"decade\")\n",
    "plt.title(\"USA vs Non-USA content share over time\")\n",
    "plt.legend()\n",
    "plt.show()"
   ]
  },
  {
   "cell_type": "markdown",
   "id": "e92adab0",
   "metadata": {},
   "source": [
    "### 5. Text Features"
   ]
  },
  {
   "cell_type": "code",
   "execution_count": null,
   "id": "ba191168",
   "metadata": {},
   "outputs": [],
   "source": [
    "netflix_df['description_length']=netflix_df['description'].apply(lambda x:len(x))\n",
    "netflix_df.sample(3)"
   ]
  },
  {
   "cell_type": "code",
   "execution_count": null,
   "id": "92a93ba5",
   "metadata": {},
   "outputs": [],
   "source": [
    "movie=netflix_df[netflix_df['type']=='Movie']['description_length']\n",
    "show=netflix_df[netflix_df['type']=='TV Show']['description_length']\n",
    "plt.hist(movie,bins=8,label=\"Movie\",edgecolor=\"red\",color=\"blue\")\n",
    "plt.hist(show,bins=5,label=\"TV Show\",color=\"yellow\",edgecolor=\"aqua\")\n",
    "plt.title(\"Distribution of Movie Description Lengths\")\n",
    "plt.legend()\n",
    "plt.xlabel(\"Description Length (words)\")\n",
    "plt.ylabel(\"Count\")\n",
    "plt.show()"
   ]
  },
  {
   "cell_type": "code",
   "execution_count": null,
   "id": "5e759245",
   "metadata": {},
   "outputs": [],
   "source": [
    "netflix_df.boxplot(column='description_length',by='type')\n",
    "plt.title(\"Description Length by Type\")\n",
    "plt.suptitle(\"\")  # remove default title\n",
    "plt.xlabel(\"Type\")\n",
    "plt.ylabel(\"Description Length (words)\")\n",
    "plt.show()"
   ]
  },
  {
   "cell_type": "markdown",
   "id": "be60881d",
   "metadata": {},
   "source": [
    "## Part C – Mini Assignment Questions"
   ]
  },
  {
   "cell_type": "code",
   "execution_count": null,
   "id": "425172be",
   "metadata": {},
   "outputs": [],
   "source": [
    "# 1\n",
    "counts=netflix_df['release_year'].value_counts().sort_index()\n",
    "peak_year=counts.idxmax()\n",
    "peak_count=counts.max()\n",
    "print(f\"The year with the most releases was {peak_year} with {peak_count} titles.\")"
   ]
  },
  {
   "cell_type": "code",
   "execution_count": null,
   "id": "7d88dd31",
   "metadata": {},
   "outputs": [],
   "source": [
    "# 2\n",
    "netflix_df['type'].value_counts()\n",
    "print(\"Movies dominate the platform\\n\")"
   ]
  },
  {
   "cell_type": "code",
   "execution_count": null,
   "id": "b6146fe4",
   "metadata": {},
   "outputs": [],
   "source": [
    "# 3\n",
    "print(netflix_df['country'].value_counts().head(3))\n",
    "print(\"\\n3 countries contribute the most content\\nUnited States', 'India', 'United Kingdom\")"
   ]
  },
  {
   "cell_type": "code",
   "execution_count": null,
   "id": "d4daa0f5",
   "metadata": {},
   "outputs": [],
   "source": [
    "# 4\n",
    "netflix_df.groupby(\"rating\")['type'].value_counts().unstack(fill_value=0)"
   ]
  },
  {
   "cell_type": "code",
   "execution_count": null,
   "id": "c21451b9",
   "metadata": {},
   "outputs": [],
   "source": [
    "# 4\n",
    "movies_rating = netflix_df[netflix_df['type'] == 'Movie']['rating'].value_counts().idxmax()\n",
    "print(\"Most common rating for Movies:\", movies_rating)\n",
    "shows_rating = netflix_df[netflix_df['type'] == 'TV Show']['rating'].value_counts().idxmax()\n",
    "print(\"Most common rating for TV Shows:\", shows_rating)"
   ]
  },
  {
   "cell_type": "code",
   "execution_count": null,
   "id": "33473f5e",
   "metadata": {},
   "outputs": [],
   "source": [
    "# 5\n",
    "subset=netflix_df[netflix_df['type']=='Movie']\n",
    "avg_runtime_by_year=subset.groupby('release_year')['duration_int'].mean().reset_index()\n",
    "plt.figure(figsize=(10,5))\n",
    "plt.plot(avg_runtime_by_year['release_year'], avg_runtime_by_year['duration_int'], marker='o')\n",
    "plt.title(\"Average Movie Duration on Netflix Over Time\")\n",
    "plt.xlabel(\"Release Year\")\n",
    "plt.ylabel(\"Average Duration (minutes)\")\n",
    "plt.grid(True)\n",
    "plt.show()"
   ]
  },
  {
   "cell_type": "code",
   "execution_count": null,
   "id": "fcb95ef6",
   "metadata": {},
   "outputs": [],
   "source": [
    "# 6\n",
    "decade_counts = netflix_df.groupby('decade').size().reset_index(name='count')\n",
    "print(decade_counts)"
   ]
  },
  {
   "cell_type": "markdown",
   "id": "809151b2",
   "metadata": {},
   "source": [
    "Ans1: The year with the most releases was 2018 with 1147 titles.\n",
    "\n",
    "Ans2: Movies dominate the platform\n",
    "\n",
    "Ans3: 3 countries contribute the most content are United States, India, United Kingdom\n",
    "\n",
    "Ans4: Most common rating for Movies: TV-MA and for TV Shows: TV-MA\n",
    "\n",
    "Ans5: NO, Movies dont tend to be longer now compared to older ones\n",
    "\n",
    "Ans6: Movies dominate in: International Movies, Dramas, Comedies and TV Shows dominate in:International TV Shows, TV Dramas, TV Comedies / Reality Shows\n",
    "\n",
    "Ans7: 2010 decade saw the largest growth in Netflix content\n",
    "\n",
    "Ans8: Yes, there a difference in description_length between Movies and TV Shows"
   ]
  },
  {
   "cell_type": "markdown",
   "id": "d1fbb663",
   "metadata": {},
   "source": [
    "### Completed basic Exploratory Data Analysis (EDA) on the Netflix dataset with insights on content type, genres, countries, and ratings."
   ]
  }
 ],
 "metadata": {
  "kernelspec": {
   "display_name": ".venv (3.13.5)",
   "language": "python",
   "name": "python3"
  },
  "language_info": {
   "codemirror_mode": {
    "name": "ipython",
    "version": 3
   },
   "file_extension": ".py",
   "mimetype": "text/x-python",
   "name": "python",
   "nbconvert_exporter": "python",
   "pygments_lexer": "ipython3",
   "version": "3.13.5"
  }
 },
 "nbformat": 4,
 "nbformat_minor": 5
}
