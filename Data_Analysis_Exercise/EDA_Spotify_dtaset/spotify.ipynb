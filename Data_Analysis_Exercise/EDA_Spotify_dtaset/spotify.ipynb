{
 "cells": [
  {
   "cell_type": "markdown",
   "id": "cfa175f3",
   "metadata": {},
   "source": [
    "# Full Mini EDA + Knowledge Engineering Assignment – Spotify Dataset\n",
    "## Step 1 – Basic Understanding\n",
    "- Load the dataset.\n",
    "- Print shape, info(), head().\n",
    "- Check missing values (which columns, how much).\n",
    "- Number of unique artists, albums, and genres.\n",
    "- Are there duplicate tracks?\n",
    "\n",
    "## Step 2 – Data Cleaning\n",
    "- Remove duplicate data\n",
    "- Ensure all audio features numeric dtypes (danceability, energy, loudness, tempo, valence, etc.)\n",
    "\n",
    "## Step 3 – Descriptive Statistics\n",
    "- Mean, median, std for tempo, energy, danceability, loudness, valence.\n",
    "- Song with highest danceability.\n",
    "- Song with highest energy.\n",
    "- Artist with most tracks.\n",
    "- Most common genre.\n",
    "\n",
    "## Step 4 – Audio Feature Distributions\n",
    "- Histograms for tempo, danceability, energy, loudness, valence.\n",
    "- Which features look normally distributed? Which are skewed?\n",
    "- Do most songs have high/low energy?\n",
    "- Any extreme outliers in track duration?\n",
    "\n",
    "## Step 5 – Bivariate Analysis\n",
    "- Scatter: tempo vs danceability.\n",
    "- Compare energy vs loudness (are they correlated?).\n",
    "- Boxplot: danceability across genres.\n",
    "- Do popular tracks (popularity > 80) have higher energy/danceability?\n",
    "- Genre-specific tempo differences.\n",
    "\n",
    "# Step 6 – Correlation & Relationships\n",
    "- Correlation matrix of numeric features.\n",
    "- Heatmap visualization.\n",
    "- Pairplot (energy, danceability, loudness, tempo, valence).\n",
    "- Do features cluster into groups (e.g., “party songs” vs “calm songs”)?\n",
    "\n",
    "# Step 7 – Visualization Tasks\n",
    "- Barplot: Top 10 artists with most tracks.\n",
    "- Word cloud of genres.\n",
    "- Pie chart: genre share of songs.\n",
    "- Line chart: growth of electronic vs acoustic tracks.\n",
    "- Radar plot: average audio features by genre.\n",
    "\n",
    "# Step 8 – Knowledge Engineering (Feature Insights)\n",
    "- Which features drive popularity?\n",
    "- Relationship between valence (happiness) and mode (major/minor).\n",
    "- Build a Mood Score = (0.5 × valence + 0.3 × danceability + 0.2 × energy).\n",
    "- Which year had the happiest mood score?\n",
    "- Which genre scores highest on mood?\n",
    "- Cluster songs by (danceability, energy, valence) → identify mood clusters.\n",
    "\n",
    "# Step 9 – Insights & Reporting\n",
    "- 3–5 key insights about Spotify songs evolution (tempo, duration, features).\n",
    "- Which genres dominate overall? Which are niche?\n",
    "- Do artists stick to one style or vary widely across features?\n",
    "- If you were Spotify, which features would you use to design personalized playlists?"
   ]
  },
  {
   "cell_type": "code",
   "execution_count": null,
   "id": "d5f83efd",
   "metadata": {},
   "outputs": [],
   "source": [
    "print(\"Importing Modules\")\n",
    "import pandas as pd\n",
    "import matplotlib.pyplot as plt\n",
    "import numpy as np"
   ]
  },
  {
   "cell_type": "markdown",
   "id": "805e0fb1",
   "metadata": {},
   "source": [
    "### Step 1 – Basic Understanding"
   ]
  },
  {
   "cell_type": "code",
   "execution_count": null,
   "id": "51f98675",
   "metadata": {},
   "outputs": [],
   "source": [
    "print(\"Load the dataset\")\n",
    "spotify_df=pd.read_csv(\"Spotify_dataset.csv\")\n",
    "spotify_df.sample(2)"
   ]
  },
  {
   "cell_type": "code",
   "execution_count": null,
   "id": "9c607d5c",
   "metadata": {},
   "outputs": [],
   "source": [
    "print(f\"Print shape => {spotify_df.shape}\\nhead()\\n{spotify_df.head()}\")\n",
    "print(\"\\ninfo()\\n\")\n",
    "spotify_df.info()"
   ]
  },
  {
   "cell_type": "code",
   "execution_count": null,
   "id": "aabb7ce8",
   "metadata": {},
   "outputs": [],
   "source": [
    "print(\"Check missing values (which columns, how much).\")\n",
    "spotify_df.isnull().sum()"
   ]
  },
  {
   "cell_type": "code",
   "execution_count": null,
   "id": "622bbfbd",
   "metadata": {},
   "outputs": [],
   "source": [
    "print(\"Number of unique artists, albums, and genres\")\n",
    "unique_artist_list=spotify_df['artist_name'].unique()\n",
    "unique_albums=spotify_df['track_name'].unique()\n",
    "unique_genre=spotify_df['genre'].unique()\n",
    "print(f\"unique_artist_list\\n{unique_artist_list}\\n\\nunique_albums\\n{unique_albums}\\n\\nunique_genre\\n{unique_genre}\")"
   ]
  },
  {
   "cell_type": "code",
   "execution_count": null,
   "id": "363087b2",
   "metadata": {},
   "outputs": [],
   "source": [
    "duplicate_count=True if spotify_df['track_name'].duplicated().sum() > 0 else False\n",
    "print(f\"Are there duplicate tracks? {duplicate_count}\")\n",
    "spotify_df[spotify_df['track_name'].duplicated()]['track_name'].sort_values(ascending=False)"
   ]
  },
  {
   "cell_type": "markdown",
   "id": "653b6b89",
   "metadata": {},
   "source": [
    "## Step 2 – Data Cleaning"
   ]
  },
  {
   "cell_type": "code",
   "execution_count": null,
   "id": "594375aa",
   "metadata": {},
   "outputs": [],
   "source": [
    "# Check duplicates by track name + artist + duration\n",
    "spotify_df.duplicated(subset=['track_id','track_name','artist_name']).sum()\n",
    "# Drop Duplicated\n",
    "spotify_df.drop_duplicates(subset=['track_id','track_name','artist_name'],inplace=True,ignore_index=True)\n",
    "# Check duplicates after dropping\n",
    "spotify_df.duplicated(subset=['track_id','track_name','artist_name']).sum()"
   ]
  },
  {
   "cell_type": "markdown",
   "id": "58e290ca",
   "metadata": {},
   "source": [
    "## Step 3 – Descriptive Statistics"
   ]
  },
  {
   "cell_type": "code",
   "execution_count": null,
   "id": "582890ee",
   "metadata": {},
   "outputs": [],
   "source": [
    "# Mean, median, std for tempo, energy, danceability, loudness, valence.\n",
    "print(f\"Tempo Mean, Median, Std\\nMean = {spotify_df['tempo'].mean()}\\nMedian = {spotify_df['tempo'].median()}\\nStd = {spotify_df['tempo'].std()}\")\n",
    "print(f\"\\nEnergy Mean, Median, Std\\nMean = {spotify_df['energy'].mean()}\\nMedian = {spotify_df['energy'].median()}\\nStd = {spotify_df['energy'].std()}\")\n",
    "print(f\"\\nDanceability Mean, Median, Std\\nMean = {spotify_df['danceability'].mean()}\\nMedian = {spotify_df['danceability'].median()}\\nStd = {spotify_df['danceability'].std()}\")\n",
    "print(f\"\\nLoudness Mean, Median, Std\\nMean = {spotify_df['loudness'].mean()}\\nMedian = {spotify_df['loudness'].median()}\\nStd = {spotify_df['loudness'].std()}\")\n",
    "print(f\"\\nValence Mean, Median, Std\\nMean = {spotify_df['valence'].mean()}\\nMedian = {spotify_df['valence'].median()}\\nStd = {spotify_df['valence'].std()}\")\n",
    "print(\"This is a long process below is cleaner code\")"
   ]
  },
  {
   "cell_type": "code",
   "execution_count": null,
   "id": "bf977bd0",
   "metadata": {},
   "outputs": [],
   "source": [
    "column_list=['tempo', 'energy', 'danceability', 'loudness', 'valence']\n",
    "for col in column_list:\n",
    "    print(f\"\\n{col} Mean, Median, Std\\nMean = {spotify_df[col].mean():.2f}\\nMedian = {spotify_df[col].median():.2f}\\nStd = {spotify_df[col].std():.2f}\")"
   ]
  },
  {
   "cell_type": "code",
   "execution_count": null,
   "id": "c166d4ec",
   "metadata": {},
   "outputs": [],
   "source": [
    "#  Song with highest danceability.\n",
    "res=spotify_df.loc[spotify_df['danceability'].idxmax()][['track_name','danceability']]\n",
    "print(f\"Song - {res.track_name} with highest danceability - {res.danceability}\")"
   ]
  },
  {
   "cell_type": "code",
   "execution_count": null,
   "id": "0d7cd41e",
   "metadata": {},
   "outputs": [],
   "source": [
    "# Song with highest energy.\n",
    "res=spotify_df.loc[spotify_df['energy'].idxmax()][['track_name','energy']]\n",
    "print(f\"Song - {res.track_name} with highest energy - {res.energy}\")"
   ]
  },
  {
   "cell_type": "code",
   "execution_count": null,
   "id": "92922269",
   "metadata": {},
   "outputs": [],
   "source": [
    "# Artist with most tracks\n",
    "print(\"Top 5 Artist with most tracks\")\n",
    "spotify_df.groupby(\"artist_name\")[\"track_name\"].count().sort_values(ascending=False).head(5)"
   ]
  },
  {
   "cell_type": "code",
   "execution_count": null,
   "id": "738f7244",
   "metadata": {},
   "outputs": [],
   "source": [
    "# Most common genre\n",
    "print(\"Top 5 Most common genre\")\n",
    "# spotify_df.groupby('genre')['track_name'].count().sort_values(ascending=False).head(5)\n",
    "spotify_df['genre'].value_counts().sort_values(ascending=False).head(5)"
   ]
  },
  {
   "cell_type": "markdown",
   "id": "db6abc39",
   "metadata": {},
   "source": [
    "## Step 4 – Audio Feature Distributions"
   ]
  },
  {
   "cell_type": "code",
   "execution_count": null,
   "id": "26b13197",
   "metadata": {},
   "outputs": [],
   "source": [
    "# Histograms for tempo, danceability, energy, loudness, valence.\n",
    "column_list={0:'tempo', 1:'energy', 2:'danceability', 3:'loudness', 4:'valence'}\n",
    "colors={0:'red', 1:'blue', 2:'green', 3:'aqua', 4:'pink'}\n",
    "fig,ax=plt.subplots(1,5,figsize=(30,6))\n",
    "for col in column_list:\n",
    "    feature = column_list[col]\n",
    "    ax[col].hist(spotify_df[column_list[col]],bins=30,edgecolor=\"black\",label=column_list[col],color=colors[col])\n",
    "    ax[col].legend()\n",
    "    ax[col].set_title(f\"{feature.capitalize()} Distribution\")\n",
    "    ax[col].set_xlabel(feature.capitalize())\n",
    "fig.supylabel(\"Count\")\n",
    "fig.suptitle(\"Distribution of songs\")\n",
    "plt.tight_layout()\n",
    "plt.show()\n"
   ]
  },
  {
   "cell_type": "code",
   "execution_count": null,
   "id": "1b87a65d",
   "metadata": {},
   "outputs": [],
   "source": [
    "# Which features look normally distributed? Which are skewed?\n",
    "features = ['tempo','energy','danceability','loudness','valence','duration_min']\n",
    "\n",
    "fig, axes = plt.subplots(2, 3, figsize=(15,8))\n",
    "axes = axes.flatten()\n",
    "\n",
    "for i, col in enumerate(features):\n",
    "    axes[i].hist(spotify_df[col], bins=30, edgecolor=\"black\", color=\"skyblue\")\n",
    "    axes[i].set_title(f\"{col} Distribution\")\n",
    "\n",
    "plt.tight_layout()\n",
    "plt.show()\n"
   ]
  },
  {
   "cell_type": "code",
   "execution_count": null,
   "id": "f99bf37c",
   "metadata": {},
   "outputs": [],
   "source": [
    "# Do most songs have high/low energy?\n",
    "spotify_df['energy_type']=pd.cut(spotify_df['energy'],bins=[-1,0.33,0.66,1] ,labels=['low','medium','high'])\n",
    "res=spotify_df['energy_type'].value_counts(normalize=True).sort_values(ascending=False)*100\n",
    "print(f\"{res.head(1)} \\n\\nMost songs have high energy\")\n",
    "\n",
    "plt.figure(figsize=(6,5))\n",
    "res.plot(kind='bar', color=['skyblue','orange','red'], edgecolor='black')\n",
    "plt.title(\"Distribution of Song Energy Levels\")\n",
    "plt.ylabel(\"Percentage (%) of Songs\")\n",
    "plt.xlabel(\"Energy Category\")\n",
    "plt.show()"
   ]
  },
  {
   "cell_type": "code",
   "execution_count": null,
   "id": "82c88f0f",
   "metadata": {},
   "outputs": [],
   "source": [
    "# Any extreme outliers in track duration?\n",
    "spotify_df['duration_min']=round(spotify_df['duration_ms']/60000,2)\n",
    "Q1 = spotify_df['duration_min'].quantile(0.25)\n",
    "Q3 = spotify_df['duration_min'].quantile(0.75)\n",
    "IQR = Q3 - Q1\n",
    "\n",
    "lower_bound = Q1 - 1.5*IQR\n",
    "upper_bound = Q3 + 1.5*IQR\n",
    "\n",
    "outliers = spotify_df[(spotify_df['duration_min'] < lower_bound) | (spotify_df['duration_min'] > upper_bound)]\n",
    "print(f\"Number of extreme outliers in duration: {len(outliers)}\")\n",
    "print(outliers[['track_name','artist_name','duration_min']].head())\n"
   ]
  },
  {
   "cell_type": "markdown",
   "id": "5dd8d818",
   "metadata": {},
   "source": [
    "## Step 5 – Bivariate Analysis"
   ]
  },
  {
   "cell_type": "code",
   "execution_count": null,
   "id": "acc3ae73",
   "metadata": {},
   "outputs": [],
   "source": [
    "# Scatter: tempo vs danceability.\n",
    "plt.scatter(spotify_df['tempo'],spotify_df['danceability'],alpha=0.6,color='green',edgecolor='black')\n",
    "plt.xlabel(\"Tempo (BPM)\")\n",
    "plt.ylabel(\"Danceability\")\n",
    "plt.title(\"Tempo vs Danceability\")\n",
    "plt.show()\n",
    "\n",
    "# Correlation check\n",
    "corr_val=spotify_df['tempo'].corr(spotify_df['danceability'])\n",
    "print(f\"Correlation between tempo and danceability is {corr_val:.2f}\")\n",
    "print(\"Tempo and danceability are not highly correlated\")"
   ]
  },
  {
   "cell_type": "code",
   "execution_count": null,
   "id": "cf4f4d10",
   "metadata": {},
   "outputs": [],
   "source": [
    "# Compare energy vs loudness (are they correlated?).\n",
    "plt.scatter(spotify_df['energy'],spotify_df['loudness'],alpha=0.6,color='yellow',edgecolor='black')\n",
    "plt.xlabel(\"Energy\")\n",
    "plt.ylabel(\"Loudness (DB)\")\n",
    "plt.title(\"Energy vs Loudness\")\n",
    "plt.show()\n",
    "\n",
    "corr_val=spotify_df['energy'].corr(spotify_df['loudness'])\n",
    "print(f\"Correlation between Energy and loudness is {corr_val:.2f}\")\n",
    "print(\"Energy and Loudness are highly correlated.\")"
   ]
  },
  {
   "cell_type": "code",
   "execution_count": null,
   "id": "211a3f9c",
   "metadata": {},
   "outputs": [],
   "source": [
    "# Boxplot: danceability across genres.\n",
    "plt.figure(figsize=(20,8))\n",
    "spotify_df.boxplot(column='danceability',by='genre',rot=90)\n",
    "plt.title(\"Danceability across Genres\")\n",
    "plt.suptitle(\"\")  # removes automatic 'Boxplot grouped by genre' title\n",
    "plt.xlabel(\"Genre\")\n",
    "plt.ylabel(\"Danceability\")\n",
    "plt.show()"
   ]
  },
  {
   "cell_type": "code",
   "execution_count": null,
   "id": "56022eec",
   "metadata": {},
   "outputs": [],
   "source": [
    "# Do popular tracks (popularity > 80) have higher energy/danceability?\n",
    "spotify_df['popularity_tag']=spotify_df['popularity'].apply(lambda x : 'More Popular' if x > 80 else 'Less Popular')\n",
    "result=round(spotify_df.groupby('popularity_tag')[['energy','danceability']].mean(),2)\n",
    "print(\"Popular tracks (popularity > 80) have higher energy/danceability\\n\",result)\n",
    "result['energy'].iloc[0]\n",
    "\n",
    "fig,ax=plt.subplots(1,2,figsize=(10,5))\n",
    "ax[0].bar(result.index,result['energy'],color=['yellow','aqua'], alpha=0.5,edgecolor='green')\n",
    "ax[0].set_title(\"popularity vs Energy\")\n",
    "\n",
    "ax[1].bar(result.index,result['danceability'],color=['yellow','aqua'], alpha=0.5,edgecolor='green')\n",
    "ax[1].set_title(\"popularity vs Danceability\")\n",
    "\n",
    "fig.supxlabel(\"Popularity\")\n",
    "fig.supylabel(\"Mean\")\n",
    "plt.tight_layout()\n",
    "plt.show()"
   ]
  },
  {
   "cell_type": "code",
   "execution_count": null,
   "id": "74274e5c",
   "metadata": {},
   "outputs": [],
   "source": [
    "# Genre-specific tempo differences.\n",
    "res=spotify_df.groupby('genre')['tempo'].mean().sort_values()\n",
    "\n",
    "plt.figure(figsize=(12,6))\n",
    "plt.bar(res.index,res.values,color=\"yellow\",edgecolor='green')\n",
    "plt.xlabel(\"Genre\")\n",
    "plt.xticks(rotation=90)\n",
    "plt.ylabel(\"Tempo Mean\")\n",
    "plt.title('Genre-specific tempo differences')\n",
    "plt.show()"
   ]
  },
  {
   "cell_type": "code",
   "execution_count": null,
   "id": "af7954c5",
   "metadata": {},
   "outputs": [],
   "source": []
  },
  {
   "cell_type": "code",
   "execution_count": null,
   "id": "2081508d",
   "metadata": {},
   "outputs": [],
   "source": []
  }
 ],
 "metadata": {
  "kernelspec": {
   "display_name": ".venv (3.13.5)",
   "language": "python",
   "name": "python3"
  },
  "language_info": {
   "codemirror_mode": {
    "name": "ipython",
    "version": 3
   },
   "file_extension": ".py",
   "mimetype": "text/x-python",
   "name": "python",
   "nbconvert_exporter": "python",
   "pygments_lexer": "ipython3",
   "version": "3.13.5"
  }
 },
 "nbformat": 4,
 "nbformat_minor": 5
}
